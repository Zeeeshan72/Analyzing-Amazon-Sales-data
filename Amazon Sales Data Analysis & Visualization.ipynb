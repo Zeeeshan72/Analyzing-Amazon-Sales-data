{
 "cells": [
  {
   "cell_type": "code",
   "execution_count": 1,
   "id": "c92e9ae3",
   "metadata": {
    "_cell_guid": "b1076dfc-b9ad-4769-8c92-a6c4dae69d19",
    "_uuid": "8f2839f25d086af736a60e9eeb907d3b93b6e0e5",
    "execution": {
     "iopub.execute_input": "2024-06-28T13:02:52.932821Z",
     "iopub.status.busy": "2024-06-28T13:02:52.932313Z",
     "iopub.status.idle": "2024-06-28T13:02:54.053769Z",
     "shell.execute_reply": "2024-06-28T13:02:54.052386Z"
    },
    "papermill": {
     "duration": 1.135156,
     "end_time": "2024-06-28T13:02:54.057184",
     "exception": false,
     "start_time": "2024-06-28T13:02:52.922028",
     "status": "completed"
    },
    "tags": []
   },
   "outputs": [
    {
     "name": "stdout",
     "output_type": "stream",
     "text": [
      "/kaggle/input/amazon-sales-data/Amazon Sales data.csv\n"
     ]
    }
   ],
   "source": [
    "import numpy as np # linear algebra\n",
    "import pandas as pd # data processing\n",
    "import os\n",
    "for dirname, _, filenames in os.walk('/kaggle/input'):\n",
    "    for filename in filenames:\n",
    "        print(os.path.join(dirname, filename))"
   ]
  },
  {
   "cell_type": "code",
   "execution_count": 2,
   "id": "5bbbe567",
   "metadata": {
    "execution": {
     "iopub.execute_input": "2024-06-28T13:02:54.075169Z",
     "iopub.status.busy": "2024-06-28T13:02:54.073880Z",
     "iopub.status.idle": "2024-06-28T13:02:55.699856Z",
     "shell.execute_reply": "2024-06-28T13:02:55.698525Z"
    },
    "papermill": {
     "duration": 1.63778,
     "end_time": "2024-06-28T13:02:55.702669",
     "exception": false,
     "start_time": "2024-06-28T13:02:54.064889",
     "status": "completed"
    },
    "tags": []
   },
   "outputs": [],
   "source": [
    "import os\n",
    "import numpy as np\n",
    "import pandas as pd\n",
    "import matplotlib.pyplot as plt\n",
    "import seaborn as sns\n",
    "%matplotlib inline"
   ]
  },
  {
   "cell_type": "code",
   "execution_count": 3,
   "id": "58a3d93a",
   "metadata": {
    "execution": {
     "iopub.execute_input": "2024-06-28T13:02:55.720146Z",
     "iopub.status.busy": "2024-06-28T13:02:55.719711Z",
     "iopub.status.idle": "2024-06-28T13:02:55.739890Z",
     "shell.execute_reply": "2024-06-28T13:02:55.738536Z"
    },
    "papermill": {
     "duration": 0.032788,
     "end_time": "2024-06-28T13:02:55.743105",
     "exception": false,
     "start_time": "2024-06-28T13:02:55.710317",
     "status": "completed"
    },
    "tags": []
   },
   "outputs": [],
   "source": [
    "amz_sales_data_df = pd.read_csv('/kaggle/input/amazon-sales-data/Amazon Sales data.csv')"
   ]
  },
  {
   "cell_type": "code",
   "execution_count": 4,
   "id": "ae37ccae",
   "metadata": {
    "execution": {
     "iopub.execute_input": "2024-06-28T13:02:55.760177Z",
     "iopub.status.busy": "2024-06-28T13:02:55.759745Z",
     "iopub.status.idle": "2024-06-28T13:02:55.800276Z",
     "shell.execute_reply": "2024-06-28T13:02:55.798928Z"
    },
    "papermill": {
     "duration": 0.05201,
     "end_time": "2024-06-28T13:02:55.802888",
     "exception": false,
     "start_time": "2024-06-28T13:02:55.750878",
     "status": "completed"
    },
    "tags": []
   },
   "outputs": [
    {
     "data": {
      "text/html": [
       "<div>\n",
       "<style scoped>\n",
       "    .dataframe tbody tr th:only-of-type {\n",
       "        vertical-align: middle;\n",
       "    }\n",
       "\n",
       "    .dataframe tbody tr th {\n",
       "        vertical-align: top;\n",
       "    }\n",
       "\n",
       "    .dataframe thead th {\n",
       "        text-align: right;\n",
       "    }\n",
       "</style>\n",
       "<table border=\"1\" class=\"dataframe\">\n",
       "  <thead>\n",
       "    <tr style=\"text-align: right;\">\n",
       "      <th></th>\n",
       "      <th>Region</th>\n",
       "      <th>Country</th>\n",
       "      <th>Item Type</th>\n",
       "      <th>Sales Channel</th>\n",
       "      <th>Order Priority</th>\n",
       "      <th>Order Date</th>\n",
       "      <th>Order ID</th>\n",
       "      <th>Ship Date</th>\n",
       "      <th>Units Sold</th>\n",
       "      <th>Unit Price</th>\n",
       "      <th>Unit Cost</th>\n",
       "      <th>Total Revenue</th>\n",
       "      <th>Total Cost</th>\n",
       "      <th>Total Profit</th>\n",
       "    </tr>\n",
       "  </thead>\n",
       "  <tbody>\n",
       "    <tr>\n",
       "      <th>0</th>\n",
       "      <td>Australia and Oceania</td>\n",
       "      <td>Tuvalu</td>\n",
       "      <td>Baby Food</td>\n",
       "      <td>Offline</td>\n",
       "      <td>H</td>\n",
       "      <td>5/28/2010</td>\n",
       "      <td>669165933</td>\n",
       "      <td>6/27/2010</td>\n",
       "      <td>9925</td>\n",
       "      <td>? 255.28</td>\n",
       "      <td>? 159.42</td>\n",
       "      <td>? 25,33,654.00</td>\n",
       "      <td>? 15,82,243.50</td>\n",
       "      <td>? 9,51,410.50</td>\n",
       "    </tr>\n",
       "    <tr>\n",
       "      <th>1</th>\n",
       "      <td>Central America and the Caribbean</td>\n",
       "      <td>Grenada</td>\n",
       "      <td>Cereal</td>\n",
       "      <td>Online</td>\n",
       "      <td>C</td>\n",
       "      <td>8/22/2012</td>\n",
       "      <td>963881480</td>\n",
       "      <td>9/15/2012</td>\n",
       "      <td>2804</td>\n",
       "      <td>? 205.70</td>\n",
       "      <td>? 117.11</td>\n",
       "      <td>? 5,76,782.80</td>\n",
       "      <td>? 3,28,376.44</td>\n",
       "      <td>? 2,48,406.36</td>\n",
       "    </tr>\n",
       "    <tr>\n",
       "      <th>2</th>\n",
       "      <td>Europe</td>\n",
       "      <td>Russia</td>\n",
       "      <td>Office Supplies</td>\n",
       "      <td>Offline</td>\n",
       "      <td>L</td>\n",
       "      <td>05-02-2014</td>\n",
       "      <td>341417157</td>\n",
       "      <td>05-08-2014</td>\n",
       "      <td>1779</td>\n",
       "      <td>? 651.21</td>\n",
       "      <td>? 524.96</td>\n",
       "      <td>? 11,58,502.59</td>\n",
       "      <td>? 9,33,903.84</td>\n",
       "      <td>? 2,24,598.75</td>\n",
       "    </tr>\n",
       "    <tr>\n",
       "      <th>3</th>\n",
       "      <td>Sub-Saharan Africa</td>\n",
       "      <td>Sao Tome and Principe</td>\n",
       "      <td>Fruits</td>\n",
       "      <td>Online</td>\n",
       "      <td>C</td>\n",
       "      <td>6/20/2014</td>\n",
       "      <td>514321792</td>\n",
       "      <td>07-05-2014</td>\n",
       "      <td>8102</td>\n",
       "      <td>? 9.33</td>\n",
       "      <td>? 6.92</td>\n",
       "      <td>? 75,591.66</td>\n",
       "      <td>? 56,065.84</td>\n",
       "      <td>? 19,525.82</td>\n",
       "    </tr>\n",
       "    <tr>\n",
       "      <th>4</th>\n",
       "      <td>Sub-Saharan Africa</td>\n",
       "      <td>Rwanda</td>\n",
       "      <td>Office Supplies</td>\n",
       "      <td>Offline</td>\n",
       "      <td>L</td>\n",
       "      <td>02-01-2013</td>\n",
       "      <td>115456712</td>\n",
       "      <td>02-06-2013</td>\n",
       "      <td>5062</td>\n",
       "      <td>? 651.21</td>\n",
       "      <td>? 524.96</td>\n",
       "      <td>? 32,96,425.02</td>\n",
       "      <td>? 26,57,347.52</td>\n",
       "      <td>? 6,39,077.50</td>\n",
       "    </tr>\n",
       "    <tr>\n",
       "      <th>...</th>\n",
       "      <td>...</td>\n",
       "      <td>...</td>\n",
       "      <td>...</td>\n",
       "      <td>...</td>\n",
       "      <td>...</td>\n",
       "      <td>...</td>\n",
       "      <td>...</td>\n",
       "      <td>...</td>\n",
       "      <td>...</td>\n",
       "      <td>...</td>\n",
       "      <td>...</td>\n",
       "      <td>...</td>\n",
       "      <td>...</td>\n",
       "      <td>...</td>\n",
       "    </tr>\n",
       "    <tr>\n",
       "      <th>95</th>\n",
       "      <td>Sub-Saharan Africa</td>\n",
       "      <td>Mali</td>\n",
       "      <td>Clothes</td>\n",
       "      <td>Online</td>\n",
       "      <td>M</td>\n",
       "      <td>7/26/2011</td>\n",
       "      <td>512878119</td>\n",
       "      <td>09-03-2011</td>\n",
       "      <td>888</td>\n",
       "      <td>? 109.28</td>\n",
       "      <td>? 35.84</td>\n",
       "      <td>? 97,040.64</td>\n",
       "      <td>? 31,825.92</td>\n",
       "      <td>? 65,214.72</td>\n",
       "    </tr>\n",
       "    <tr>\n",
       "      <th>96</th>\n",
       "      <td>Asia</td>\n",
       "      <td>Malaysia</td>\n",
       "      <td>Fruits</td>\n",
       "      <td>Offline</td>\n",
       "      <td>L</td>\n",
       "      <td>11-11-2011</td>\n",
       "      <td>810711038</td>\n",
       "      <td>12/28/2011</td>\n",
       "      <td>6267</td>\n",
       "      <td>? 9.33</td>\n",
       "      <td>? 6.92</td>\n",
       "      <td>? 58,471.11</td>\n",
       "      <td>? 43,367.64</td>\n",
       "      <td>? 15,103.47</td>\n",
       "    </tr>\n",
       "    <tr>\n",
       "      <th>97</th>\n",
       "      <td>Sub-Saharan Africa</td>\n",
       "      <td>Sierra Leone</td>\n",
       "      <td>Vegetables</td>\n",
       "      <td>Offline</td>\n",
       "      <td>C</td>\n",
       "      <td>06-01-2016</td>\n",
       "      <td>728815257</td>\n",
       "      <td>6/29/2016</td>\n",
       "      <td>1485</td>\n",
       "      <td>? 154.06</td>\n",
       "      <td>? 90.93</td>\n",
       "      <td>? 2,28,779.10</td>\n",
       "      <td>? 1,35,031.05</td>\n",
       "      <td>? 93,748.05</td>\n",
       "    </tr>\n",
       "    <tr>\n",
       "      <th>98</th>\n",
       "      <td>North America</td>\n",
       "      <td>Mexico</td>\n",
       "      <td>Personal Care</td>\n",
       "      <td>Offline</td>\n",
       "      <td>M</td>\n",
       "      <td>7/30/2015</td>\n",
       "      <td>559427106</td>\n",
       "      <td>08-08-2015</td>\n",
       "      <td>5767</td>\n",
       "      <td>? 81.73</td>\n",
       "      <td>? 56.67</td>\n",
       "      <td>? 4,71,336.91</td>\n",
       "      <td>? 3,26,815.89</td>\n",
       "      <td>? 1,44,521.02</td>\n",
       "    </tr>\n",
       "    <tr>\n",
       "      <th>99</th>\n",
       "      <td>Sub-Saharan Africa</td>\n",
       "      <td>Mozambique</td>\n",
       "      <td>Household</td>\n",
       "      <td>Offline</td>\n",
       "      <td>L</td>\n",
       "      <td>02-10-2012</td>\n",
       "      <td>665095412</td>\n",
       "      <td>2/15/2012</td>\n",
       "      <td>5367</td>\n",
       "      <td>? 668.27</td>\n",
       "      <td>? 502.54</td>\n",
       "      <td>? 35,86,605.09</td>\n",
       "      <td>? 26,97,132.18</td>\n",
       "      <td>? 8,89,472.91</td>\n",
       "    </tr>\n",
       "  </tbody>\n",
       "</table>\n",
       "<p>100 rows × 14 columns</p>\n",
       "</div>"
      ],
      "text/plain": [
       "                               Region                Country        Item Type  \\\n",
       "0               Australia and Oceania                 Tuvalu        Baby Food   \n",
       "1   Central America and the Caribbean                Grenada           Cereal   \n",
       "2                              Europe                 Russia  Office Supplies   \n",
       "3                  Sub-Saharan Africa  Sao Tome and Principe           Fruits   \n",
       "4                  Sub-Saharan Africa                 Rwanda  Office Supplies   \n",
       "..                                ...                    ...              ...   \n",
       "95                 Sub-Saharan Africa                   Mali          Clothes   \n",
       "96                               Asia               Malaysia           Fruits   \n",
       "97                 Sub-Saharan Africa           Sierra Leone       Vegetables   \n",
       "98                      North America                 Mexico    Personal Care   \n",
       "99                 Sub-Saharan Africa             Mozambique        Household   \n",
       "\n",
       "   Sales Channel Order Priority  Order Date   Order ID   Ship Date  \\\n",
       "0        Offline              H   5/28/2010  669165933   6/27/2010   \n",
       "1         Online              C   8/22/2012  963881480   9/15/2012   \n",
       "2        Offline              L  05-02-2014  341417157  05-08-2014   \n",
       "3         Online              C   6/20/2014  514321792  07-05-2014   \n",
       "4        Offline              L  02-01-2013  115456712  02-06-2013   \n",
       "..           ...            ...         ...        ...         ...   \n",
       "95        Online              M   7/26/2011  512878119  09-03-2011   \n",
       "96       Offline              L  11-11-2011  810711038  12/28/2011   \n",
       "97       Offline              C  06-01-2016  728815257   6/29/2016   \n",
       "98       Offline              M   7/30/2015  559427106  08-08-2015   \n",
       "99       Offline              L  02-10-2012  665095412   2/15/2012   \n",
       "\n",
       "    Units Sold Unit Price Unit Cost   Total Revenue      Total Cost  \\\n",
       "0         9925   ? 255.28  ? 159.42  ? 25,33,654.00  ? 15,82,243.50   \n",
       "1         2804   ? 205.70  ? 117.11   ? 5,76,782.80   ? 3,28,376.44   \n",
       "2         1779   ? 651.21  ? 524.96  ? 11,58,502.59   ? 9,33,903.84   \n",
       "3         8102     ? 9.33    ? 6.92     ? 75,591.66     ? 56,065.84   \n",
       "4         5062   ? 651.21  ? 524.96  ? 32,96,425.02  ? 26,57,347.52   \n",
       "..         ...        ...       ...             ...             ...   \n",
       "95         888   ? 109.28   ? 35.84     ? 97,040.64     ? 31,825.92   \n",
       "96        6267     ? 9.33    ? 6.92     ? 58,471.11     ? 43,367.64   \n",
       "97        1485   ? 154.06   ? 90.93   ? 2,28,779.10   ? 1,35,031.05   \n",
       "98        5767    ? 81.73   ? 56.67   ? 4,71,336.91   ? 3,26,815.89   \n",
       "99        5367   ? 668.27  ? 502.54  ? 35,86,605.09  ? 26,97,132.18   \n",
       "\n",
       "     Total Profit  \n",
       "0   ? 9,51,410.50  \n",
       "1   ? 2,48,406.36  \n",
       "2   ? 2,24,598.75  \n",
       "3     ? 19,525.82  \n",
       "4   ? 6,39,077.50  \n",
       "..            ...  \n",
       "95    ? 65,214.72  \n",
       "96    ? 15,103.47  \n",
       "97    ? 93,748.05  \n",
       "98  ? 1,44,521.02  \n",
       "99  ? 8,89,472.91  \n",
       "\n",
       "[100 rows x 14 columns]"
      ]
     },
     "execution_count": 4,
     "metadata": {},
     "output_type": "execute_result"
    }
   ],
   "source": [
    "amz_sales_data_df"
   ]
  },
  {
   "cell_type": "markdown",
   "id": "abf4bfd2",
   "metadata": {
    "papermill": {
     "duration": 0.008455,
     "end_time": "2024-06-28T13:02:55.819799",
     "exception": false,
     "start_time": "2024-06-28T13:02:55.811344",
     "status": "completed"
    },
    "tags": []
   },
   "source": [
    "# Data Cleaning"
   ]
  },
  {
   "cell_type": "code",
   "execution_count": 5,
   "id": "51c588ff",
   "metadata": {
    "execution": {
     "iopub.execute_input": "2024-06-28T13:02:55.839566Z",
     "iopub.status.busy": "2024-06-28T13:02:55.839155Z",
     "iopub.status.idle": "2024-06-28T13:02:55.866317Z",
     "shell.execute_reply": "2024-06-28T13:02:55.865080Z"
    },
    "papermill": {
     "duration": 0.040962,
     "end_time": "2024-06-28T13:02:55.869720",
     "exception": false,
     "start_time": "2024-06-28T13:02:55.828758",
     "status": "completed"
    },
    "tags": []
   },
   "outputs": [
    {
     "name": "stdout",
     "output_type": "stream",
     "text": [
      "<class 'pandas.core.frame.DataFrame'>\n",
      "RangeIndex: 100 entries, 0 to 99\n",
      "Data columns (total 14 columns):\n",
      " #   Column          Non-Null Count  Dtype \n",
      "---  ------          --------------  ----- \n",
      " 0   Region          100 non-null    object\n",
      " 1   Country         100 non-null    object\n",
      " 2   Item Type       100 non-null    object\n",
      " 3   Sales Channel   100 non-null    object\n",
      " 4   Order Priority  100 non-null    object\n",
      " 5   Order Date      100 non-null    object\n",
      " 6   Order ID        100 non-null    int64 \n",
      " 7   Ship Date       100 non-null    object\n",
      " 8   Units Sold      100 non-null    int64 \n",
      " 9   Unit Price      100 non-null    object\n",
      " 10  Unit Cost       100 non-null    object\n",
      " 11  Total Revenue   100 non-null    object\n",
      " 12  Total Cost      100 non-null    object\n",
      " 13  Total Profit    100 non-null    object\n",
      "dtypes: int64(2), object(12)\n",
      "memory usage: 11.1+ KB\n"
     ]
    }
   ],
   "source": [
    "amz_sales_data_df.info()"
   ]
  },
  {
   "cell_type": "code",
   "execution_count": 6,
   "id": "6bf42df4",
   "metadata": {
    "execution": {
     "iopub.execute_input": "2024-06-28T13:02:55.888875Z",
     "iopub.status.busy": "2024-06-28T13:02:55.888031Z",
     "iopub.status.idle": "2024-06-28T13:02:55.910400Z",
     "shell.execute_reply": "2024-06-28T13:02:55.909083Z"
    },
    "papermill": {
     "duration": 0.034742,
     "end_time": "2024-06-28T13:02:55.913026",
     "exception": false,
     "start_time": "2024-06-28T13:02:55.878284",
     "status": "completed"
    },
    "tags": []
   },
   "outputs": [
    {
     "data": {
      "text/html": [
       "<div>\n",
       "<style scoped>\n",
       "    .dataframe tbody tr th:only-of-type {\n",
       "        vertical-align: middle;\n",
       "    }\n",
       "\n",
       "    .dataframe tbody tr th {\n",
       "        vertical-align: top;\n",
       "    }\n",
       "\n",
       "    .dataframe thead th {\n",
       "        text-align: right;\n",
       "    }\n",
       "</style>\n",
       "<table border=\"1\" class=\"dataframe\">\n",
       "  <thead>\n",
       "    <tr style=\"text-align: right;\">\n",
       "      <th></th>\n",
       "      <th>Order ID</th>\n",
       "      <th>Units Sold</th>\n",
       "    </tr>\n",
       "  </thead>\n",
       "  <tbody>\n",
       "    <tr>\n",
       "      <th>count</th>\n",
       "      <td>1.000000e+02</td>\n",
       "      <td>100.000000</td>\n",
       "    </tr>\n",
       "    <tr>\n",
       "      <th>mean</th>\n",
       "      <td>5.550204e+08</td>\n",
       "      <td>5128.710000</td>\n",
       "    </tr>\n",
       "    <tr>\n",
       "      <th>std</th>\n",
       "      <td>2.606153e+08</td>\n",
       "      <td>2794.484562</td>\n",
       "    </tr>\n",
       "    <tr>\n",
       "      <th>min</th>\n",
       "      <td>1.146066e+08</td>\n",
       "      <td>124.000000</td>\n",
       "    </tr>\n",
       "    <tr>\n",
       "      <th>25%</th>\n",
       "      <td>3.389225e+08</td>\n",
       "      <td>2836.250000</td>\n",
       "    </tr>\n",
       "    <tr>\n",
       "      <th>50%</th>\n",
       "      <td>5.577086e+08</td>\n",
       "      <td>5382.500000</td>\n",
       "    </tr>\n",
       "    <tr>\n",
       "      <th>75%</th>\n",
       "      <td>7.907551e+08</td>\n",
       "      <td>7369.000000</td>\n",
       "    </tr>\n",
       "    <tr>\n",
       "      <th>max</th>\n",
       "      <td>9.940222e+08</td>\n",
       "      <td>9925.000000</td>\n",
       "    </tr>\n",
       "  </tbody>\n",
       "</table>\n",
       "</div>"
      ],
      "text/plain": [
       "           Order ID   Units Sold\n",
       "count  1.000000e+02   100.000000\n",
       "mean   5.550204e+08  5128.710000\n",
       "std    2.606153e+08  2794.484562\n",
       "min    1.146066e+08   124.000000\n",
       "25%    3.389225e+08  2836.250000\n",
       "50%    5.577086e+08  5382.500000\n",
       "75%    7.907551e+08  7369.000000\n",
       "max    9.940222e+08  9925.000000"
      ]
     },
     "execution_count": 6,
     "metadata": {},
     "output_type": "execute_result"
    }
   ],
   "source": [
    "amz_sales_data_df.describe()"
   ]
  },
  {
   "cell_type": "code",
   "execution_count": 7,
   "id": "36e3c700",
   "metadata": {
    "execution": {
     "iopub.execute_input": "2024-06-28T13:02:55.935273Z",
     "iopub.status.busy": "2024-06-28T13:02:55.934835Z",
     "iopub.status.idle": "2024-06-28T13:02:55.942352Z",
     "shell.execute_reply": "2024-06-28T13:02:55.941341Z"
    },
    "papermill": {
     "duration": 0.020457,
     "end_time": "2024-06-28T13:02:55.944875",
     "exception": false,
     "start_time": "2024-06-28T13:02:55.924418",
     "status": "completed"
    },
    "tags": []
   },
   "outputs": [
    {
     "data": {
      "text/plain": [
       "Index(['Region', 'Country', 'Item Type', 'Sales Channel', 'Order Priority',\n",
       "       'Order Date', 'Order ID', 'Ship Date', 'Units Sold', 'Unit Price',\n",
       "       'Unit Cost', 'Total Revenue', 'Total Cost', 'Total Profit'],\n",
       "      dtype='object')"
      ]
     },
     "execution_count": 7,
     "metadata": {},
     "output_type": "execute_result"
    }
   ],
   "source": [
    "amz_sales_data_df.columns"
   ]
  },
  {
   "cell_type": "code",
   "execution_count": 8,
   "id": "26bfcd0a",
   "metadata": {
    "execution": {
     "iopub.execute_input": "2024-06-28T13:02:55.964135Z",
     "iopub.status.busy": "2024-06-28T13:02:55.963595Z",
     "iopub.status.idle": "2024-06-28T13:02:55.971243Z",
     "shell.execute_reply": "2024-06-28T13:02:55.970157Z"
    },
    "papermill": {
     "duration": 0.02034,
     "end_time": "2024-06-28T13:02:55.973782",
     "exception": false,
     "start_time": "2024-06-28T13:02:55.953442",
     "status": "completed"
    },
    "tags": []
   },
   "outputs": [
    {
     "data": {
      "text/plain": [
       "(100, 14)"
      ]
     },
     "execution_count": 8,
     "metadata": {},
     "output_type": "execute_result"
    }
   ],
   "source": [
    "amz_sales_data_df.shape"
   ]
  },
  {
   "cell_type": "code",
   "execution_count": 9,
   "id": "33c4ffd7",
   "metadata": {
    "execution": {
     "iopub.execute_input": "2024-06-28T13:02:55.993047Z",
     "iopub.status.busy": "2024-06-28T13:02:55.992641Z",
     "iopub.status.idle": "2024-06-28T13:02:56.014572Z",
     "shell.execute_reply": "2024-06-28T13:02:56.013480Z"
    },
    "papermill": {
     "duration": 0.034822,
     "end_time": "2024-06-28T13:02:56.017357",
     "exception": false,
     "start_time": "2024-06-28T13:02:55.982535",
     "status": "completed"
    },
    "tags": []
   },
   "outputs": [
    {
     "data": {
      "text/html": [
       "<div>\n",
       "<style scoped>\n",
       "    .dataframe tbody tr th:only-of-type {\n",
       "        vertical-align: middle;\n",
       "    }\n",
       "\n",
       "    .dataframe tbody tr th {\n",
       "        vertical-align: top;\n",
       "    }\n",
       "\n",
       "    .dataframe thead th {\n",
       "        text-align: right;\n",
       "    }\n",
       "</style>\n",
       "<table border=\"1\" class=\"dataframe\">\n",
       "  <thead>\n",
       "    <tr style=\"text-align: right;\">\n",
       "      <th></th>\n",
       "      <th>Region</th>\n",
       "      <th>Country</th>\n",
       "      <th>Item Type</th>\n",
       "      <th>Sales Channel</th>\n",
       "      <th>Order Priority</th>\n",
       "      <th>Order Date</th>\n",
       "      <th>Order ID</th>\n",
       "      <th>Ship Date</th>\n",
       "      <th>Units Sold</th>\n",
       "      <th>Unit Price</th>\n",
       "      <th>Unit Cost</th>\n",
       "      <th>Total Revenue</th>\n",
       "      <th>Total Cost</th>\n",
       "      <th>Total Profit</th>\n",
       "    </tr>\n",
       "  </thead>\n",
       "  <tbody>\n",
       "    <tr>\n",
       "      <th>0</th>\n",
       "      <td>Australia and Oceania</td>\n",
       "      <td>Tuvalu</td>\n",
       "      <td>Baby Food</td>\n",
       "      <td>Offline</td>\n",
       "      <td>H</td>\n",
       "      <td>5/28/2010</td>\n",
       "      <td>669165933</td>\n",
       "      <td>6/27/2010</td>\n",
       "      <td>9925</td>\n",
       "      <td>? 255.28</td>\n",
       "      <td>? 159.42</td>\n",
       "      <td>? 25,33,654.00</td>\n",
       "      <td>? 15,82,243.50</td>\n",
       "      <td>? 9,51,410.50</td>\n",
       "    </tr>\n",
       "    <tr>\n",
       "      <th>1</th>\n",
       "      <td>Central America and the Caribbean</td>\n",
       "      <td>Grenada</td>\n",
       "      <td>Cereal</td>\n",
       "      <td>Online</td>\n",
       "      <td>C</td>\n",
       "      <td>8/22/2012</td>\n",
       "      <td>963881480</td>\n",
       "      <td>9/15/2012</td>\n",
       "      <td>2804</td>\n",
       "      <td>? 205.70</td>\n",
       "      <td>? 117.11</td>\n",
       "      <td>? 5,76,782.80</td>\n",
       "      <td>? 3,28,376.44</td>\n",
       "      <td>? 2,48,406.36</td>\n",
       "    </tr>\n",
       "    <tr>\n",
       "      <th>2</th>\n",
       "      <td>Europe</td>\n",
       "      <td>Russia</td>\n",
       "      <td>Office Supplies</td>\n",
       "      <td>Offline</td>\n",
       "      <td>L</td>\n",
       "      <td>05-02-2014</td>\n",
       "      <td>341417157</td>\n",
       "      <td>05-08-2014</td>\n",
       "      <td>1779</td>\n",
       "      <td>? 651.21</td>\n",
       "      <td>? 524.96</td>\n",
       "      <td>? 11,58,502.59</td>\n",
       "      <td>? 9,33,903.84</td>\n",
       "      <td>? 2,24,598.75</td>\n",
       "    </tr>\n",
       "    <tr>\n",
       "      <th>3</th>\n",
       "      <td>Sub-Saharan Africa</td>\n",
       "      <td>Sao Tome and Principe</td>\n",
       "      <td>Fruits</td>\n",
       "      <td>Online</td>\n",
       "      <td>C</td>\n",
       "      <td>6/20/2014</td>\n",
       "      <td>514321792</td>\n",
       "      <td>07-05-2014</td>\n",
       "      <td>8102</td>\n",
       "      <td>? 9.33</td>\n",
       "      <td>? 6.92</td>\n",
       "      <td>? 75,591.66</td>\n",
       "      <td>? 56,065.84</td>\n",
       "      <td>? 19,525.82</td>\n",
       "    </tr>\n",
       "    <tr>\n",
       "      <th>4</th>\n",
       "      <td>Sub-Saharan Africa</td>\n",
       "      <td>Rwanda</td>\n",
       "      <td>Office Supplies</td>\n",
       "      <td>Offline</td>\n",
       "      <td>L</td>\n",
       "      <td>02-01-2013</td>\n",
       "      <td>115456712</td>\n",
       "      <td>02-06-2013</td>\n",
       "      <td>5062</td>\n",
       "      <td>? 651.21</td>\n",
       "      <td>? 524.96</td>\n",
       "      <td>? 32,96,425.02</td>\n",
       "      <td>? 26,57,347.52</td>\n",
       "      <td>? 6,39,077.50</td>\n",
       "    </tr>\n",
       "    <tr>\n",
       "      <th>5</th>\n",
       "      <td>Australia and Oceania</td>\n",
       "      <td>Solomon Islands</td>\n",
       "      <td>Baby Food</td>\n",
       "      <td>Online</td>\n",
       "      <td>C</td>\n",
       "      <td>02-04-2015</td>\n",
       "      <td>547995746</td>\n",
       "      <td>2/21/2015</td>\n",
       "      <td>2974</td>\n",
       "      <td>? 255.28</td>\n",
       "      <td>? 159.42</td>\n",
       "      <td>? 7,59,202.72</td>\n",
       "      <td>? 4,74,115.08</td>\n",
       "      <td>? 2,85,087.64</td>\n",
       "    </tr>\n",
       "    <tr>\n",
       "      <th>6</th>\n",
       "      <td>Sub-Saharan Africa</td>\n",
       "      <td>Angola</td>\n",
       "      <td>Household</td>\n",
       "      <td>Offline</td>\n",
       "      <td>M</td>\n",
       "      <td>4/23/2011</td>\n",
       "      <td>135425221</td>\n",
       "      <td>4/27/2011</td>\n",
       "      <td>4187</td>\n",
       "      <td>? 668.27</td>\n",
       "      <td>? 502.54</td>\n",
       "      <td>? 27,98,046.49</td>\n",
       "      <td>? 21,04,134.98</td>\n",
       "      <td>? 6,93,911.51</td>\n",
       "    </tr>\n",
       "    <tr>\n",
       "      <th>7</th>\n",
       "      <td>Sub-Saharan Africa</td>\n",
       "      <td>Burkina Faso</td>\n",
       "      <td>Vegetables</td>\n",
       "      <td>Online</td>\n",
       "      <td>H</td>\n",
       "      <td>7/17/2012</td>\n",
       "      <td>871543967</td>\n",
       "      <td>7/27/2012</td>\n",
       "      <td>8082</td>\n",
       "      <td>? 154.06</td>\n",
       "      <td>? 90.93</td>\n",
       "      <td>? 12,45,112.92</td>\n",
       "      <td>? 7,34,896.26</td>\n",
       "      <td>? 5,10,216.66</td>\n",
       "    </tr>\n",
       "    <tr>\n",
       "      <th>8</th>\n",
       "      <td>Sub-Saharan Africa</td>\n",
       "      <td>Republic of the Congo</td>\n",
       "      <td>Personal Care</td>\n",
       "      <td>Offline</td>\n",
       "      <td>M</td>\n",
       "      <td>7/14/2015</td>\n",
       "      <td>770463311</td>\n",
       "      <td>8/25/2015</td>\n",
       "      <td>6070</td>\n",
       "      <td>? 81.73</td>\n",
       "      <td>? 56.67</td>\n",
       "      <td>? 4,96,101.10</td>\n",
       "      <td>? 3,43,986.90</td>\n",
       "      <td>? 1,52,114.20</td>\n",
       "    </tr>\n",
       "    <tr>\n",
       "      <th>9</th>\n",
       "      <td>Sub-Saharan Africa</td>\n",
       "      <td>Senegal</td>\n",
       "      <td>Cereal</td>\n",
       "      <td>Online</td>\n",
       "      <td>H</td>\n",
       "      <td>4/18/2014</td>\n",
       "      <td>616607081</td>\n",
       "      <td>5/30/2014</td>\n",
       "      <td>6593</td>\n",
       "      <td>? 205.70</td>\n",
       "      <td>? 117.11</td>\n",
       "      <td>? 13,56,180.10</td>\n",
       "      <td>? 7,72,106.23</td>\n",
       "      <td>? 5,84,073.87</td>\n",
       "    </tr>\n",
       "  </tbody>\n",
       "</table>\n",
       "</div>"
      ],
      "text/plain": [
       "                              Region                Country        Item Type  \\\n",
       "0              Australia and Oceania                 Tuvalu        Baby Food   \n",
       "1  Central America and the Caribbean                Grenada           Cereal   \n",
       "2                             Europe                 Russia  Office Supplies   \n",
       "3                 Sub-Saharan Africa  Sao Tome and Principe           Fruits   \n",
       "4                 Sub-Saharan Africa                 Rwanda  Office Supplies   \n",
       "5              Australia and Oceania        Solomon Islands        Baby Food   \n",
       "6                 Sub-Saharan Africa                 Angola        Household   \n",
       "7                 Sub-Saharan Africa           Burkina Faso       Vegetables   \n",
       "8                 Sub-Saharan Africa  Republic of the Congo    Personal Care   \n",
       "9                 Sub-Saharan Africa                Senegal           Cereal   \n",
       "\n",
       "  Sales Channel Order Priority  Order Date   Order ID   Ship Date  Units Sold  \\\n",
       "0       Offline              H   5/28/2010  669165933   6/27/2010        9925   \n",
       "1        Online              C   8/22/2012  963881480   9/15/2012        2804   \n",
       "2       Offline              L  05-02-2014  341417157  05-08-2014        1779   \n",
       "3        Online              C   6/20/2014  514321792  07-05-2014        8102   \n",
       "4       Offline              L  02-01-2013  115456712  02-06-2013        5062   \n",
       "5        Online              C  02-04-2015  547995746   2/21/2015        2974   \n",
       "6       Offline              M   4/23/2011  135425221   4/27/2011        4187   \n",
       "7        Online              H   7/17/2012  871543967   7/27/2012        8082   \n",
       "8       Offline              M   7/14/2015  770463311   8/25/2015        6070   \n",
       "9        Online              H   4/18/2014  616607081   5/30/2014        6593   \n",
       "\n",
       "  Unit Price Unit Cost   Total Revenue      Total Cost   Total Profit  \n",
       "0   ? 255.28  ? 159.42  ? 25,33,654.00  ? 15,82,243.50  ? 9,51,410.50  \n",
       "1   ? 205.70  ? 117.11   ? 5,76,782.80   ? 3,28,376.44  ? 2,48,406.36  \n",
       "2   ? 651.21  ? 524.96  ? 11,58,502.59   ? 9,33,903.84  ? 2,24,598.75  \n",
       "3     ? 9.33    ? 6.92     ? 75,591.66     ? 56,065.84    ? 19,525.82  \n",
       "4   ? 651.21  ? 524.96  ? 32,96,425.02  ? 26,57,347.52  ? 6,39,077.50  \n",
       "5   ? 255.28  ? 159.42   ? 7,59,202.72   ? 4,74,115.08  ? 2,85,087.64  \n",
       "6   ? 668.27  ? 502.54  ? 27,98,046.49  ? 21,04,134.98  ? 6,93,911.51  \n",
       "7   ? 154.06   ? 90.93  ? 12,45,112.92   ? 7,34,896.26  ? 5,10,216.66  \n",
       "8    ? 81.73   ? 56.67   ? 4,96,101.10   ? 3,43,986.90  ? 1,52,114.20  \n",
       "9   ? 205.70  ? 117.11  ? 13,56,180.10   ? 7,72,106.23  ? 5,84,073.87  "
      ]
     },
     "execution_count": 9,
     "metadata": {},
     "output_type": "execute_result"
    }
   ],
   "source": [
    "amz_sales_data_df.head(10)"
   ]
  },
  {
   "cell_type": "code",
   "execution_count": 10,
   "id": "f2ad9859",
   "metadata": {
    "execution": {
     "iopub.execute_input": "2024-06-28T13:02:56.038144Z",
     "iopub.status.busy": "2024-06-28T13:02:56.037712Z",
     "iopub.status.idle": "2024-06-28T13:02:56.060290Z",
     "shell.execute_reply": "2024-06-28T13:02:56.059093Z"
    },
    "papermill": {
     "duration": 0.036081,
     "end_time": "2024-06-28T13:02:56.062829",
     "exception": false,
     "start_time": "2024-06-28T13:02:56.026748",
     "status": "completed"
    },
    "tags": []
   },
   "outputs": [
    {
     "data": {
      "text/html": [
       "<div>\n",
       "<style scoped>\n",
       "    .dataframe tbody tr th:only-of-type {\n",
       "        vertical-align: middle;\n",
       "    }\n",
       "\n",
       "    .dataframe tbody tr th {\n",
       "        vertical-align: top;\n",
       "    }\n",
       "\n",
       "    .dataframe thead th {\n",
       "        text-align: right;\n",
       "    }\n",
       "</style>\n",
       "<table border=\"1\" class=\"dataframe\">\n",
       "  <thead>\n",
       "    <tr style=\"text-align: right;\">\n",
       "      <th></th>\n",
       "      <th>Region</th>\n",
       "      <th>Country</th>\n",
       "      <th>Item Type</th>\n",
       "      <th>Sales Channel</th>\n",
       "      <th>Order Priority</th>\n",
       "      <th>Order Date</th>\n",
       "      <th>Order ID</th>\n",
       "      <th>Ship Date</th>\n",
       "      <th>Units Sold</th>\n",
       "      <th>Unit Price</th>\n",
       "      <th>Unit Cost</th>\n",
       "      <th>Total Revenue</th>\n",
       "      <th>Total Cost</th>\n",
       "      <th>Total Profit</th>\n",
       "    </tr>\n",
       "  </thead>\n",
       "  <tbody>\n",
       "    <tr>\n",
       "      <th>90</th>\n",
       "      <td>Sub-Saharan Africa</td>\n",
       "      <td>Sierra Leone</td>\n",
       "      <td>Office Supplies</td>\n",
       "      <td>Offline</td>\n",
       "      <td>H</td>\n",
       "      <td>12-06-2016</td>\n",
       "      <td>621386563</td>\n",
       "      <td>12/14/2016</td>\n",
       "      <td>948</td>\n",
       "      <td>? 651.21</td>\n",
       "      <td>? 524.96</td>\n",
       "      <td>? 6,17,347.08</td>\n",
       "      <td>? 4,97,662.08</td>\n",
       "      <td>? 1,19,685.00</td>\n",
       "    </tr>\n",
       "    <tr>\n",
       "      <th>91</th>\n",
       "      <td>Australia and Oceania</td>\n",
       "      <td>Australia</td>\n",
       "      <td>Beverages</td>\n",
       "      <td>Offline</td>\n",
       "      <td>H</td>\n",
       "      <td>07-07-2014</td>\n",
       "      <td>240470397</td>\n",
       "      <td>07-11-2014</td>\n",
       "      <td>9389</td>\n",
       "      <td>? 47.45</td>\n",
       "      <td>? 31.79</td>\n",
       "      <td>? 4,45,508.05</td>\n",
       "      <td>? 2,98,476.31</td>\n",
       "      <td>? 1,47,031.74</td>\n",
       "    </tr>\n",
       "    <tr>\n",
       "      <th>92</th>\n",
       "      <td>Middle East and North Africa</td>\n",
       "      <td>Azerbaijan</td>\n",
       "      <td>Office Supplies</td>\n",
       "      <td>Online</td>\n",
       "      <td>M</td>\n",
       "      <td>6/13/2012</td>\n",
       "      <td>423331391</td>\n",
       "      <td>7/24/2012</td>\n",
       "      <td>2021</td>\n",
       "      <td>? 651.21</td>\n",
       "      <td>? 524.96</td>\n",
       "      <td>? 13,16,095.41</td>\n",
       "      <td>? 10,60,944.16</td>\n",
       "      <td>? 2,55,151.25</td>\n",
       "    </tr>\n",
       "    <tr>\n",
       "      <th>93</th>\n",
       "      <td>Europe</td>\n",
       "      <td>Romania</td>\n",
       "      <td>Cosmetics</td>\n",
       "      <td>Online</td>\n",
       "      <td>H</td>\n",
       "      <td>11/26/2010</td>\n",
       "      <td>660643374</td>\n",
       "      <td>12/25/2010</td>\n",
       "      <td>7910</td>\n",
       "      <td>? 437.20</td>\n",
       "      <td>? 263.33</td>\n",
       "      <td>? 34,58,252.00</td>\n",
       "      <td>? 20,82,940.30</td>\n",
       "      <td>? 13,75,311.70</td>\n",
       "    </tr>\n",
       "    <tr>\n",
       "      <th>94</th>\n",
       "      <td>Central America and the Caribbean</td>\n",
       "      <td>Nicaragua</td>\n",
       "      <td>Beverages</td>\n",
       "      <td>Offline</td>\n",
       "      <td>C</td>\n",
       "      <td>02-08-2011</td>\n",
       "      <td>963392674</td>\n",
       "      <td>3/21/2011</td>\n",
       "      <td>8156</td>\n",
       "      <td>? 47.45</td>\n",
       "      <td>? 31.79</td>\n",
       "      <td>? 3,87,002.20</td>\n",
       "      <td>? 2,59,279.24</td>\n",
       "      <td>? 1,27,722.96</td>\n",
       "    </tr>\n",
       "    <tr>\n",
       "      <th>95</th>\n",
       "      <td>Sub-Saharan Africa</td>\n",
       "      <td>Mali</td>\n",
       "      <td>Clothes</td>\n",
       "      <td>Online</td>\n",
       "      <td>M</td>\n",
       "      <td>7/26/2011</td>\n",
       "      <td>512878119</td>\n",
       "      <td>09-03-2011</td>\n",
       "      <td>888</td>\n",
       "      <td>? 109.28</td>\n",
       "      <td>? 35.84</td>\n",
       "      <td>? 97,040.64</td>\n",
       "      <td>? 31,825.92</td>\n",
       "      <td>? 65,214.72</td>\n",
       "    </tr>\n",
       "    <tr>\n",
       "      <th>96</th>\n",
       "      <td>Asia</td>\n",
       "      <td>Malaysia</td>\n",
       "      <td>Fruits</td>\n",
       "      <td>Offline</td>\n",
       "      <td>L</td>\n",
       "      <td>11-11-2011</td>\n",
       "      <td>810711038</td>\n",
       "      <td>12/28/2011</td>\n",
       "      <td>6267</td>\n",
       "      <td>? 9.33</td>\n",
       "      <td>? 6.92</td>\n",
       "      <td>? 58,471.11</td>\n",
       "      <td>? 43,367.64</td>\n",
       "      <td>? 15,103.47</td>\n",
       "    </tr>\n",
       "    <tr>\n",
       "      <th>97</th>\n",
       "      <td>Sub-Saharan Africa</td>\n",
       "      <td>Sierra Leone</td>\n",
       "      <td>Vegetables</td>\n",
       "      <td>Offline</td>\n",
       "      <td>C</td>\n",
       "      <td>06-01-2016</td>\n",
       "      <td>728815257</td>\n",
       "      <td>6/29/2016</td>\n",
       "      <td>1485</td>\n",
       "      <td>? 154.06</td>\n",
       "      <td>? 90.93</td>\n",
       "      <td>? 2,28,779.10</td>\n",
       "      <td>? 1,35,031.05</td>\n",
       "      <td>? 93,748.05</td>\n",
       "    </tr>\n",
       "    <tr>\n",
       "      <th>98</th>\n",
       "      <td>North America</td>\n",
       "      <td>Mexico</td>\n",
       "      <td>Personal Care</td>\n",
       "      <td>Offline</td>\n",
       "      <td>M</td>\n",
       "      <td>7/30/2015</td>\n",
       "      <td>559427106</td>\n",
       "      <td>08-08-2015</td>\n",
       "      <td>5767</td>\n",
       "      <td>? 81.73</td>\n",
       "      <td>? 56.67</td>\n",
       "      <td>? 4,71,336.91</td>\n",
       "      <td>? 3,26,815.89</td>\n",
       "      <td>? 1,44,521.02</td>\n",
       "    </tr>\n",
       "    <tr>\n",
       "      <th>99</th>\n",
       "      <td>Sub-Saharan Africa</td>\n",
       "      <td>Mozambique</td>\n",
       "      <td>Household</td>\n",
       "      <td>Offline</td>\n",
       "      <td>L</td>\n",
       "      <td>02-10-2012</td>\n",
       "      <td>665095412</td>\n",
       "      <td>2/15/2012</td>\n",
       "      <td>5367</td>\n",
       "      <td>? 668.27</td>\n",
       "      <td>? 502.54</td>\n",
       "      <td>? 35,86,605.09</td>\n",
       "      <td>? 26,97,132.18</td>\n",
       "      <td>? 8,89,472.91</td>\n",
       "    </tr>\n",
       "  </tbody>\n",
       "</table>\n",
       "</div>"
      ],
      "text/plain": [
       "                               Region       Country        Item Type  \\\n",
       "90                 Sub-Saharan Africa  Sierra Leone  Office Supplies   \n",
       "91              Australia and Oceania     Australia        Beverages   \n",
       "92       Middle East and North Africa    Azerbaijan  Office Supplies   \n",
       "93                             Europe       Romania        Cosmetics   \n",
       "94  Central America and the Caribbean     Nicaragua        Beverages   \n",
       "95                 Sub-Saharan Africa          Mali          Clothes   \n",
       "96                               Asia      Malaysia           Fruits   \n",
       "97                 Sub-Saharan Africa  Sierra Leone       Vegetables   \n",
       "98                      North America        Mexico    Personal Care   \n",
       "99                 Sub-Saharan Africa    Mozambique        Household   \n",
       "\n",
       "   Sales Channel Order Priority  Order Date   Order ID   Ship Date  \\\n",
       "90       Offline              H  12-06-2016  621386563  12/14/2016   \n",
       "91       Offline              H  07-07-2014  240470397  07-11-2014   \n",
       "92        Online              M   6/13/2012  423331391   7/24/2012   \n",
       "93        Online              H  11/26/2010  660643374  12/25/2010   \n",
       "94       Offline              C  02-08-2011  963392674   3/21/2011   \n",
       "95        Online              M   7/26/2011  512878119  09-03-2011   \n",
       "96       Offline              L  11-11-2011  810711038  12/28/2011   \n",
       "97       Offline              C  06-01-2016  728815257   6/29/2016   \n",
       "98       Offline              M   7/30/2015  559427106  08-08-2015   \n",
       "99       Offline              L  02-10-2012  665095412   2/15/2012   \n",
       "\n",
       "    Units Sold Unit Price Unit Cost   Total Revenue      Total Cost  \\\n",
       "90         948   ? 651.21  ? 524.96   ? 6,17,347.08   ? 4,97,662.08   \n",
       "91        9389    ? 47.45   ? 31.79   ? 4,45,508.05   ? 2,98,476.31   \n",
       "92        2021   ? 651.21  ? 524.96  ? 13,16,095.41  ? 10,60,944.16   \n",
       "93        7910   ? 437.20  ? 263.33  ? 34,58,252.00  ? 20,82,940.30   \n",
       "94        8156    ? 47.45   ? 31.79   ? 3,87,002.20   ? 2,59,279.24   \n",
       "95         888   ? 109.28   ? 35.84     ? 97,040.64     ? 31,825.92   \n",
       "96        6267     ? 9.33    ? 6.92     ? 58,471.11     ? 43,367.64   \n",
       "97        1485   ? 154.06   ? 90.93   ? 2,28,779.10   ? 1,35,031.05   \n",
       "98        5767    ? 81.73   ? 56.67   ? 4,71,336.91   ? 3,26,815.89   \n",
       "99        5367   ? 668.27  ? 502.54  ? 35,86,605.09  ? 26,97,132.18   \n",
       "\n",
       "      Total Profit  \n",
       "90   ? 1,19,685.00  \n",
       "91   ? 1,47,031.74  \n",
       "92   ? 2,55,151.25  \n",
       "93  ? 13,75,311.70  \n",
       "94   ? 1,27,722.96  \n",
       "95     ? 65,214.72  \n",
       "96     ? 15,103.47  \n",
       "97     ? 93,748.05  \n",
       "98   ? 1,44,521.02  \n",
       "99   ? 8,89,472.91  "
      ]
     },
     "execution_count": 10,
     "metadata": {},
     "output_type": "execute_result"
    }
   ],
   "source": [
    "amz_sales_data_df.tail(10)"
   ]
  },
  {
   "cell_type": "code",
   "execution_count": 11,
   "id": "9aa00172",
   "metadata": {
    "execution": {
     "iopub.execute_input": "2024-06-28T13:02:56.084678Z",
     "iopub.status.busy": "2024-06-28T13:02:56.084283Z",
     "iopub.status.idle": "2024-06-28T13:02:56.091427Z",
     "shell.execute_reply": "2024-06-28T13:02:56.090007Z"
    },
    "papermill": {
     "duration": 0.021576,
     "end_time": "2024-06-28T13:02:56.094124",
     "exception": false,
     "start_time": "2024-06-28T13:02:56.072548",
     "status": "completed"
    },
    "tags": []
   },
   "outputs": [],
   "source": [
    "amz_sales_data_df.columns = amz_sales_data_df.columns.str.strip().str.replace(' ', '_').str.replace(':', '').str.lower()"
   ]
  },
  {
   "cell_type": "code",
   "execution_count": 12,
   "id": "da0cbdea",
   "metadata": {
    "execution": {
     "iopub.execute_input": "2024-06-28T13:02:56.115544Z",
     "iopub.status.busy": "2024-06-28T13:02:56.115119Z",
     "iopub.status.idle": "2024-06-28T13:02:56.121982Z",
     "shell.execute_reply": "2024-06-28T13:02:56.120565Z"
    },
    "papermill": {
     "duration": 0.020773,
     "end_time": "2024-06-28T13:02:56.124657",
     "exception": false,
     "start_time": "2024-06-28T13:02:56.103884",
     "status": "completed"
    },
    "tags": []
   },
   "outputs": [
    {
     "name": "stdout",
     "output_type": "stream",
     "text": [
      "Index(['region', 'country', 'item_type', 'sales_channel', 'order_priority',\n",
      "       'order_date', 'order_id', 'ship_date', 'units_sold', 'unit_price',\n",
      "       'unit_cost', 'total_revenue', 'total_cost', 'total_profit'],\n",
      "      dtype='object')\n"
     ]
    }
   ],
   "source": [
    "print(amz_sales_data_df.columns)"
   ]
  },
  {
   "cell_type": "code",
   "execution_count": 13,
   "id": "32eb6075",
   "metadata": {
    "execution": {
     "iopub.execute_input": "2024-06-28T13:02:56.147347Z",
     "iopub.status.busy": "2024-06-28T13:02:56.146505Z",
     "iopub.status.idle": "2024-06-28T13:02:56.153130Z",
     "shell.execute_reply": "2024-06-28T13:02:56.151875Z"
    },
    "papermill": {
     "duration": 0.020316,
     "end_time": "2024-06-28T13:02:56.155663",
     "exception": false,
     "start_time": "2024-06-28T13:02:56.135347",
     "status": "completed"
    },
    "tags": []
   },
   "outputs": [],
   "source": [
    "amz_sales_data_df['units_sold'] = pd.to_numeric(amz_sales_data_df['units_sold'], errors='coerce')"
   ]
  },
  {
   "cell_type": "code",
   "execution_count": 14,
   "id": "5d5091b3",
   "metadata": {
    "execution": {
     "iopub.execute_input": "2024-06-28T13:02:56.177238Z",
     "iopub.status.busy": "2024-06-28T13:02:56.176822Z",
     "iopub.status.idle": "2024-06-28T13:02:56.184181Z",
     "shell.execute_reply": "2024-06-28T13:02:56.182751Z"
    },
    "papermill": {
     "duration": 0.021686,
     "end_time": "2024-06-28T13:02:56.187207",
     "exception": false,
     "start_time": "2024-06-28T13:02:56.165521",
     "status": "completed"
    },
    "tags": []
   },
   "outputs": [
    {
     "name": "stdout",
     "output_type": "stream",
     "text": [
      "0\n"
     ]
    }
   ],
   "source": [
    "print(amz_sales_data_df['units_sold'].isna().sum())"
   ]
  },
  {
   "cell_type": "code",
   "execution_count": 15,
   "id": "ecd5160c",
   "metadata": {
    "execution": {
     "iopub.execute_input": "2024-06-28T13:02:56.209138Z",
     "iopub.status.busy": "2024-06-28T13:02:56.208694Z",
     "iopub.status.idle": "2024-06-28T13:02:56.215755Z",
     "shell.execute_reply": "2024-06-28T13:02:56.214543Z"
    },
    "papermill": {
     "duration": 0.021747,
     "end_time": "2024-06-28T13:02:56.218678",
     "exception": false,
     "start_time": "2024-06-28T13:02:56.196931",
     "status": "completed"
    },
    "tags": []
   },
   "outputs": [],
   "source": [
    "units_sold_by_item = amz_sales_data_df.groupby('item_type')['units_sold'].sum().sort_values()"
   ]
  },
  {
   "cell_type": "code",
   "execution_count": 16,
   "id": "0f868264",
   "metadata": {
    "execution": {
     "iopub.execute_input": "2024-06-28T13:02:56.241037Z",
     "iopub.status.busy": "2024-06-28T13:02:56.240654Z",
     "iopub.status.idle": "2024-06-28T13:02:56.773629Z",
     "shell.execute_reply": "2024-06-28T13:02:56.772287Z"
    },
    "papermill": {
     "duration": 0.547678,
     "end_time": "2024-06-28T13:02:56.776541",
     "exception": false,
     "start_time": "2024-06-28T13:02:56.228863",
     "status": "completed"
    },
    "tags": []
   },
   "outputs": [
    {
     "data": {
      "image/png": "[encoded data removed]",
      "text/plain": [
       "<Figure size 1000x600 with 1 Axes>"
      ]
     },
     "metadata": {},
     "output_type": "display_data"
    }
   ],
   "source": [
    "plt.figure(figsize=(10, 6))\n",
    "sns.barplot(x=units_sold_by_item.values, y=units_sold_by_item.index, palette=\"viridis\")\n",
    "plt.title('Units Sold by Item Type')\n",
    "plt.xlabel('Number of Units Sold')\n",
    "plt.ylabel('Item Type')\n",
    "plt.show()"
   ]
  },
  {
   "cell_type": "code",
   "execution_count": 17,
   "id": "5ed8288b",
   "metadata": {
    "execution": {
     "iopub.execute_input": "2024-06-28T13:02:56.800803Z",
     "iopub.status.busy": "2024-06-28T13:02:56.800298Z",
     "iopub.status.idle": "2024-06-28T13:02:56.812760Z",
     "shell.execute_reply": "2024-06-28T13:02:56.811353Z"
    },
    "papermill": {
     "duration": 0.027531,
     "end_time": "2024-06-28T13:02:56.815621",
     "exception": false,
     "start_time": "2024-06-28T13:02:56.788090",
     "status": "completed"
    },
    "tags": []
   },
   "outputs": [
    {
     "data": {
      "text/plain": [
       "region            0\n",
       "country           0\n",
       "item_type         0\n",
       "sales_channel     0\n",
       "order_priority    0\n",
       "order_date        0\n",
       "order_id          0\n",
       "ship_date         0\n",
       "units_sold        0\n",
       "unit_price        0\n",
       "unit_cost         0\n",
       "total_revenue     0\n",
       "total_cost        0\n",
       "total_profit      0\n",
       "dtype: int64"
      ]
     },
     "execution_count": 17,
     "metadata": {},
     "output_type": "execute_result"
    }
   ],
   "source": [
    "amz_sales_data_df.isnull().sum()"
   ]
  },
  {
   "cell_type": "code",
   "execution_count": 18,
   "id": "103dd5ec",
   "metadata": {
    "execution": {
     "iopub.execute_input": "2024-06-28T13:02:56.839704Z",
     "iopub.status.busy": "2024-06-28T13:02:56.839125Z",
     "iopub.status.idle": "2024-06-28T13:02:56.849080Z",
     "shell.execute_reply": "2024-06-28T13:02:56.847320Z"
    },
    "papermill": {
     "duration": 0.024875,
     "end_time": "2024-06-28T13:02:56.851844",
     "exception": false,
     "start_time": "2024-06-28T13:02:56.826969",
     "status": "completed"
    },
    "tags": []
   },
   "outputs": [
    {
     "data": {
      "text/plain": [
       "array(['Tuvalu', 'Grenada', 'Russia', 'Sao Tome and Principe', 'Rwanda',\n",
       "       'Solomon Islands', 'Angola', 'Burkina Faso',\n",
       "       'Republic of the Congo', 'Senegal', 'Kyrgyzstan', 'Cape Verde',\n",
       "       'Bangladesh', 'Honduras', 'Mongolia', 'Bulgaria', 'Sri Lanka',\n",
       "       'Cameroon', 'Turkmenistan', 'East Timor', 'Norway', 'Portugal',\n",
       "       'New Zealand', 'Moldova ', 'France', 'Kiribati', 'Mali',\n",
       "       'The Gambia', 'Switzerland', 'South Sudan', 'Australia', 'Myanmar',\n",
       "       'Djibouti', 'Costa Rica', 'Syria', 'Brunei', 'Niger', 'Azerbaijan',\n",
       "       'Slovakia', 'Comoros', 'Iceland', 'Macedonia', 'Mauritania',\n",
       "       'Albania', 'Lesotho', 'Saudi Arabia', 'Sierra Leone',\n",
       "       \"Cote d'Ivoire\", 'Fiji', 'Austria', 'United Kingdom', 'San Marino',\n",
       "       'Libya', 'Haiti', 'Gabon', 'Belize', 'Lithuania', 'Madagascar',\n",
       "       'Democratic Republic of the Congo', 'Pakistan', 'Mexico',\n",
       "       'Federated States of Micronesia', 'Laos', 'Monaco', 'Samoa ',\n",
       "       'Spain', 'Lebanon', 'Iran', 'Zambia', 'Kenya', 'Kuwait',\n",
       "       'Slovenia', 'Romania', 'Nicaragua', 'Malaysia', 'Mozambique'],\n",
       "      dtype=object)"
      ]
     },
     "execution_count": 18,
     "metadata": {},
     "output_type": "execute_result"
    }
   ],
   "source": [
    "amz_sales_data_df['country'].unique()"
   ]
  },
  {
   "cell_type": "code",
   "execution_count": 19,
   "id": "62fde325",
   "metadata": {
    "execution": {
     "iopub.execute_input": "2024-06-28T13:02:56.875814Z",
     "iopub.status.busy": "2024-06-28T13:02:56.875422Z",
     "iopub.status.idle": "2024-06-28T13:02:56.885875Z",
     "shell.execute_reply": "2024-06-28T13:02:56.884542Z"
    },
    "papermill": {
     "duration": 0.025399,
     "end_time": "2024-06-28T13:02:56.888347",
     "exception": false,
     "start_time": "2024-06-28T13:02:56.862948",
     "status": "completed"
    },
    "tags": []
   },
   "outputs": [],
   "source": [
    "amz_sales_data_df.dropna(subset=['region', 'country', 'item_type', 'sales_channel', 'order_priority',\n",
    "       'order_date', 'order_id', 'ship_date', 'units_sold', 'unit_price',\n",
    "       'unit_cost', 'total_revenue', 'total_cost', 'total_profit'],inplace=True)"
   ]
  },
  {
   "cell_type": "code",
   "execution_count": 20,
   "id": "470f8372",
   "metadata": {
    "execution": {
     "iopub.execute_input": "2024-06-28T13:02:56.912662Z",
     "iopub.status.busy": "2024-06-28T13:02:56.912267Z",
     "iopub.status.idle": "2024-06-28T13:02:56.922913Z",
     "shell.execute_reply": "2024-06-28T13:02:56.921138Z"
    },
    "papermill": {
     "duration": 0.027218,
     "end_time": "2024-06-28T13:02:56.926610",
     "exception": false,
     "start_time": "2024-06-28T13:02:56.899392",
     "status": "completed"
    },
    "tags": []
   },
   "outputs": [
    {
     "data": {
      "text/plain": [
       "region            0\n",
       "country           0\n",
       "item_type         0\n",
       "sales_channel     0\n",
       "order_priority    0\n",
       "order_date        0\n",
       "order_id          0\n",
       "ship_date         0\n",
       "units_sold        0\n",
       "unit_price        0\n",
       "unit_cost         0\n",
       "total_revenue     0\n",
       "total_cost        0\n",
       "total_profit      0\n",
       "dtype: int64"
      ]
     },
     "execution_count": 20,
     "metadata": {},
     "output_type": "execute_result"
    }
   ],
   "source": [
    "amz_sales_data_df.isnull().sum()"
   ]
  }
 ],
 "metadata": {
  "kaggle": {
   "accelerator": "none",
   "dataSources": [
    {
     "datasetId": 5299704,
     "sourceId": 8810845,
     "sourceType": "datasetVersion"
    }
   ],
   "dockerImageVersionId": 30732,
   "isGpuEnabled": false,
   "isInternetEnabled": true,
   "language": "python",
   "sourceType": "notebook"
  },
  "kernelspec": {
   "display_name": "Python 3",
   "language": "python",
   "name": "python3"
  },
  "language_info": {
   "codemirror_mode": {
    "name": "ipython",
    "version": 3
   },
   "file_extension": ".py",
   "mimetype": "text/x-python",
   "name": "python",
   "nbconvert_exporter": "python",
   "pygments_lexer": "ipython3",
   "version": "3.10.13"
  },
  "papermill": {
   "default_parameters": {},
   "duration": 7.946546,
   "end_time": "2024-06-28T13:02:57.561634",
   "environment_variables": {},
   "exception": null,
   "input_path": "__notebook__.ipynb",
   "output_path": "__notebook__.ipynb",
   "parameters": {},
   "start_time": "2024-06-28T13:02:49.615088",
   "version": "2.5.0"
  }
 },
 "nbformat": 4,
 "nbformat_minor": 5
}
